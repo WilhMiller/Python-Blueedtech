{
  "nbformat": 4,
  "nbformat_minor": 0,
  "metadata": {
    "colab": {
      "name": "Aula5.ipynb",
      "provenance": [],
      "collapsed_sections": [],
      "authorship_tag": "ABX9TyNHsDzCr3dipM/W0KfDPqNM",
      "include_colab_link": true
    },
    "kernelspec": {
      "name": "python3",
      "display_name": "Python 3"
    },
    "language_info": {
      "name": "python"
    }
  },
  "cells": [
    {
      "cell_type": "markdown",
      "metadata": {
        "id": "view-in-github",
        "colab_type": "text"
      },
      "source": [
        "<a href=\"https://colab.research.google.com/github/WilhMiller/Python-Blueedtech/blob/main/Aula5.ipynb\" target=\"_parent\"><img src=\"https://colab.research.google.com/assets/colab-badge.svg\" alt=\"Open In Colab\"/></a>"
      ]
    },
    {
      "cell_type": "code",
      "metadata": {
        "colab": {
          "base_uri": "https://localhost:8080/"
        },
        "id": "kRov4lS23y5Z",
        "outputId": "6f9e0d30-d2fe-42c2-ad1e-9117bb07ea1d"
      },
      "source": [
        "n1 = float(input('Disgite a primeira nota: '))\n",
        "n2 = float(input('Disgite a segunda nota: '))\n",
        " \n",
        "média = (n1 + n2)/2\n",
        "\n",
        "if média >=6:\n",
        "   print(f'Aluno aprovado com a média: {média} ')\n",
        "\n",
        "else:\n",
        "  print(f'Aluno reprovado com a média: {média}')\n",
        "\n",
        "print('Fim do programa!')\n",
        "\n",
        "\n"
      ],
      "execution_count": null,
      "outputs": [
        {
          "output_type": "stream",
          "text": [
            "Disgite a primeira nota: 4\n",
            "Disgite a segunda nota: 4\n",
            "Aluno reprovado com a média: 4.0\n",
            "Fim do programa!\n"
          ],
          "name": "stdout"
        }
      ]
    },
    {
      "cell_type": "code",
      "metadata": {
        "colab": {
          "base_uri": "https://localhost:8080/"
        },
        "id": "xG2ou76F75MH",
        "outputId": "f8415cb7-cbc2-4d80-b888-2c9aa5159394"
      },
      "source": [
        "#Exercício 1\n",
        "#Parte 1\n",
        "\n",
        "numero = int(input('Digite um número inteiro: '))\n",
        "if numero %2==0:\n",
        "  print(f'O número {numero} é par. ')\n",
        "else:\n",
        "  print(f'O número {numero} ímpar.')"
      ],
      "execution_count": null,
      "outputs": [
        {
          "output_type": "stream",
          "text": [
            "Digite um número inteiro: 1\n",
            "O número 1 ímpar.\n"
          ],
          "name": "stdout"
        }
      ]
    },
    {
      "cell_type": "code",
      "metadata": {
        "colab": {
          "base_uri": "https://localhost:8080/"
        },
        "id": "zBxpbTPx9G-B",
        "outputId": "370873ed-e5b5-4ad9-f28c-b8eb7cd5d202"
      },
      "source": [
        "#Exercício 2\n",
        "#Parte 1\n",
        "numero = int(input('Digite um número: '))\n",
        "if numero >=0:\n",
        "  print(f'O número {numero} é positivo')\n",
        "else:\n",
        "  print(f'O número{numero} é negativo')\n",
        "  \n"
      ],
      "execution_count": null,
      "outputs": [
        {
          "output_type": "stream",
          "text": [
            "Digite um número: 4\n",
            "O número 4 é positivo\n"
          ],
          "name": "stdout"
        }
      ]
    },
    {
      "cell_type": "code",
      "metadata": {
        "colab": {
          "base_uri": "https://localhost:8080/"
        },
        "id": "LGygQ0Fm-ED-",
        "outputId": "66a716df-8444-481e-abcc-b070b68f8a76"
      },
      "source": [
        "#Exercício 2\n",
        "#Parte 2\n",
        "\n",
        "numero = int(input('Digite um número: '))\n",
        "\n",
        "if numero >0:\n",
        "  print(f'O número {numero} é positivo')\n",
        "  \n",
        "elif numero ==0:\n",
        "  print('Número invalido!')\n",
        "\n",
        "\n",
        "else:\n",
        "  print(f'O número {numero} é negativo')\n",
        "print('Programa finalizado!')\n",
        "\n"
      ],
      "execution_count": null,
      "outputs": [
        {
          "output_type": "stream",
          "text": [
            "Digite um número: 0\n",
            "Número invalido!\n",
            "Programa finalizado!\n"
          ],
          "name": "stdout"
        }
      ]
    },
    {
      "cell_type": "code",
      "metadata": {
        "colab": {
          "base_uri": "https://localhost:8080/"
        },
        "id": "GnYJj2bYF911",
        "outputId": "d67f2372-a393-404a-98d9-585198239a73"
      },
      "source": [
        "#Exercício 3\n",
        "\n",
        "n1 = int(input('Digite um número: '))\n",
        "n2 = int(input('Digite um número: '))\n",
        "\n",
        "if n1==n2:\n",
        "  print(f'Número {n1} e {n2} são iguais.')\n",
        "\n",
        "elif n1>n2:\n",
        "  print(f'Número {n1} é o maior.')\n",
        "else:\n",
        "  print(f'Número {n2} é o maior.')\n",
        "print('Fim do programa')\n",
        " \n",
        "\n",
        "\n"
      ],
      "execution_count": null,
      "outputs": [
        {
          "output_type": "stream",
          "text": [
            "Digite um número: 4\n",
            "Digite um número: 4\n",
            "Número 4 e 4 são iguais.\n",
            "Fim do programa\n"
          ],
          "name": "stdout"
        }
      ]
    },
    {
      "cell_type": "code",
      "metadata": {
        "id": "mWAm0PZ6J798"
      },
      "source": [
        ""
      ],
      "execution_count": null,
      "outputs": []
    },
    {
      "cell_type": "code",
      "metadata": {
        "colab": {
          "base_uri": "https://localhost:8080/"
        },
        "id": "cOK7pgt2KDJI",
        "outputId": "53f73740-710d-4267-fef2-a0eb5180c77d"
      },
      "source": [
        "letra = input('Digite M para masculino e F para feminino: ')\n",
        "letra=letra.upper()\n",
        "if letra==('M'):\n",
        "  print(f'Seu sexo é masculino.')\n",
        "elif letra==('F'):\n",
        "  print(f'Seu sexo é feminino.')\n",
        "\n",
        "else: \n",
        "  print('Sexo invalido!')\n",
        "\n",
        "  \n",
        "\n"
      ],
      "execution_count": null,
      "outputs": [
        {
          "output_type": "stream",
          "text": [
            "Digite M para masculino e F para feminino: a\n",
            "Sexo invalido!\n"
          ],
          "name": "stdout"
        }
      ]
    },
    {
      "cell_type": "code",
      "metadata": {
        "colab": {
          "base_uri": "https://localhost:8080/"
        },
        "id": "Fnz3zwt-QkES",
        "outputId": "6056af5b-0231-445e-e302-b4140a43de3f"
      },
      "source": [
        "n1 = float(input('Digite a primeira nota: '))\n",
        "n2 = float(input('Digite a segunda nota: '))\n",
        "\n",
        "média = (n1+n2)/2\n",
        "\n",
        "if média>=6:\n",
        "  print(f'Aluno aprovado com média: {média}')\n",
        "elif média >=4 and média <6:\n",
        "  print(f'O aluno está de recuperação com a média: {média} ')\n",
        "else:\n",
        "  print('Aluno reprovado!')"
      ],
      "execution_count": null,
      "outputs": [
        {
          "output_type": "stream",
          "text": [
            "Digite a primeira nota: 5\n",
            "Digite a segunda nota: 10\n",
            "Aluno aprovado com média: 7.5\n"
          ],
          "name": "stdout"
        }
      ]
    },
    {
      "cell_type": "code",
      "metadata": {
        "colab": {
          "base_uri": "https://localhost:8080/"
        },
        "id": "G1AQzYf_Qj4T",
        "outputId": "70b041b7-4d8b-4c15-d551-b4d00ead4491"
      },
      "source": [
        "nota = float(input('Nota do aluno [0.0 - 10.00]:'))\n",
        "\n",
        "if nota >= 0 and nota <= 10:\n",
        "  if nota <6:\n",
        "     print(f'Sua nota é F')\n",
        "    elif nota <7:\n",
        "     print(f'Sua nota é D') \n",
        "   elif nota <8:\n",
        "     print(f'Sua nota é C')\n",
        "   elif nota <9:\n",
        "     print(f'Sua nota é B')\n",
        "   else:\n",
        "     print('Sua nota é A')\n",
        "else:\n",
        "  print('Nota invalida!')\n",
        "  "
      ],
      "execution_count": 19,
      "outputs": [
        {
          "output_type": "stream",
          "text": [
            "Nota do aluno [0.0 - 10.00]:20\n",
            "Nota invalida!\n"
          ],
          "name": "stdout"
        }
      ]
    }
  ]
}